{
 "cells": [
  {
   "cell_type": "markdown",
   "metadata": {},
   "source": [
    "PACE stages\n",
    "Throughout these project notebooks, you’ll see references to the problem-solving framework PACE.\n",
    "The following notebook components are labeled with the respective PACE stage: Plan, Analyze,\n",
    "Construct, and Execute.\n",
    "\n",
    "\n",
    "\n",
    "\n",
    "PACE: Plan\n",
    "Consider the questions in your PACE Strategy Document and those below to craft your response:\n",
    "\n",
    "\n",
    "1. What is your research question for this data project? Later on, you will need to formulate the\n",
    "null and alternative hypotheses as the first step of your hypothesis test. Consider your research\n",
    "question now, at the start of this task.\n",
    "Research question:\n",
    "“Do drivers who open the application using an iPhone have the same number of drives on average\n",
    "as drivers who use Android devices?”\n",
    "\n",
    "\n",
    "Import packages and libraries needed to compute descriptive statistics and conduct a hypothesis\n",
    "test."
   ]
  },
  {
   "cell_type": "code",
   "execution_count": 6,
   "metadata": {},
   "outputs": [],
   "source": [
    "import pandas as pd\n",
    "import scipy as stats"
   ]
  },
  {
   "cell_type": "code",
   "execution_count": 7,
   "metadata": {},
   "outputs": [],
   "source": [
    "#now lets import the dataset\n",
    "df= pd.read_csv('F:\\DATA Analytics\\Google Advanced Data Analytics Certification\\Course 4 The Power of Statistics\\Waze Project\\waze_dataset.csv')"
   ]
  },
  {
   "cell_type": "markdown",
   "metadata": {},
   "source": [
    "Analyze and Construct:\n",
    "\n",
    "1. Data professionals use descriptive statistics for exploratory data analysis (EDA). How can\n",
    "computing descriptive statistics help you learn more about your data in this stage of your analysis?\n",
    "\n",
    "Answer:\n",
    "\n",
    "In general, descriptive statistics are useful because they let you quickly explore and understand\n",
    "large amounts of data. In this case, computing descriptive statistics helps you quickly compare the\n",
    "average amount of drives by device type."
   ]
  },
  {
   "cell_type": "code",
   "execution_count": 8,
   "metadata": {},
   "outputs": [
    {
     "data": {
      "text/plain": [
       "0    2\n",
       "1    1\n",
       "2    2\n",
       "3    1\n",
       "4    2\n",
       "Name: device_type, dtype: int64"
      ]
     },
     "execution_count": 8,
     "metadata": {},
     "output_type": "execute_result"
    }
   ],
   "source": [
    "#create a map dictionary\n",
    "map_dictionary = {'Android': 2, 'iPhone': 1}\n",
    "\n",
    "#Create a new device_type column\n",
    "df['device_type'] = df['device']\n",
    "\n",
    "#map the new column to the dictionary\n",
    "df['device_type'] = df['device_type'].map(map_dictionary)\n",
    "\n",
    "df['device_type'].head()"
   ]
  },
  {
   "cell_type": "code",
   "execution_count": 9,
   "metadata": {},
   "outputs": [
    {
     "data": {
      "text/plain": [
       "device_type\n",
       "1    67.859078\n",
       "2    66.231838\n",
       "Name: drives, dtype: float64"
      ]
     },
     "execution_count": 9,
     "metadata": {},
     "output_type": "execute_result"
    }
   ],
   "source": [
    "df.groupby('device_type')['drives']. mean()"
   ]
  },
  {
   "cell_type": "markdown",
   "metadata": {},
   "source": [
    "Based on the averages shown, it appears that drivers who use an iPhone device to interact with the\n",
    "application have a higher number of drives on average. However, this difference might arise from\n",
    "random sampling, rather than being a true difference in the number of drives. To assess whether\n",
    "the difference is statistically significant, you can conduct a hypothesis test."
   ]
  },
  {
   "cell_type": "markdown",
   "metadata": {},
   "source": [
    "Hypothesis testing\n",
    "\n",
    "Our goal is to conduct a two-sample t-test. Recall the steps for conducting a hypothesis test:\n",
    "\n",
    "1. State the null hypothesis and the alternative hypothesis\n",
    "2. Choose a signficance level\n",
    "3. Find the p-value\n",
    "4. Reject or fail to reject the null hypothesis"
   ]
  },
  {
   "cell_type": "markdown",
   "metadata": {},
   "source": [
    "Recall the difference between the null hypothesis (\n",
    ") and the alternative hypothesis (\n",
    ").\n",
    "\n",
    "Question: What are your hypotheses for this data project?\n",
    "\n",
    "H0 : There is no difference in average number of drives between drivers who use iPhone devices and drivers who use Androids.\n",
    "\n",
    "HA\n",
    "There is a difference in average number of drives between drivers who use iPhone devices and drivers who use Androids.\n",
    "Taking 5% as the significance level and proceed with a two-sample t-test.\n",
    "\n",
    "Isolate the drives column for iPhone users.\n",
    "Isolate the drives column for Android users.\n",
    "Perform the t-test"
   ]
  },
  {
   "cell_type": "code",
   "execution_count": null,
   "metadata": {},
   "outputs": [],
   "source": [
    "#isolate the drives column for android users\n",
    "iPhone = df[df['device_type'] == 1]['drives']\n",
    "\n",
    "#isolate the device column for android users\n",
    "Android = df[df['device_type'] == 2]['drives']\n",
    "\n",
    "#perform the t-test\n",
    "stats.ttest_ind(a=iPhone, b=Android, equal_var=False)"
   ]
  }
 ],
 "metadata": {
  "kernelspec": {
   "display_name": "Python 3",
   "language": "python",
   "name": "python3"
  },
  "language_info": {
   "codemirror_mode": {
    "name": "ipython",
    "version": 3
   },
   "file_extension": ".py",
   "mimetype": "text/x-python",
   "name": "python",
   "nbconvert_exporter": "python",
   "pygments_lexer": "ipython3",
   "version": "3.11.9"
  }
 },
 "nbformat": 4,
 "nbformat_minor": 2
}
